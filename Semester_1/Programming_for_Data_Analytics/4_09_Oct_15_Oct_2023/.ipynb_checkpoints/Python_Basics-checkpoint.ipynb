{
 "cells": [
  {
   "cell_type": "code",
   "execution_count": 1,
   "id": "d8b75c61",
   "metadata": {},
   "outputs": [],
   "source": [
    "a = 3"
   ]
  },
  {
   "cell_type": "code",
   "execution_count": 2,
   "id": "0ec1f5bf",
   "metadata": {},
   "outputs": [
    {
     "data": {
      "text/plain": [
       "3"
      ]
     },
     "execution_count": 2,
     "metadata": {},
     "output_type": "execute_result"
    }
   ],
   "source": [
    "a"
   ]
  },
  {
   "cell_type": "code",
   "execution_count": 3,
   "id": "5d42b19b",
   "metadata": {},
   "outputs": [],
   "source": [
    "a = 'Hola amigos'"
   ]
  },
  {
   "cell_type": "code",
   "execution_count": 4,
   "id": "92f25512",
   "metadata": {},
   "outputs": [
    {
     "data": {
      "text/plain": [
       "'Hola amigos'"
      ]
     },
     "execution_count": 4,
     "metadata": {},
     "output_type": "execute_result"
    }
   ],
   "source": [
    "a"
   ]
  },
  {
   "cell_type": "code",
   "execution_count": 5,
   "id": "316a3180",
   "metadata": {},
   "outputs": [],
   "source": [
    "a = 6546646466151313131654978491313184646464616161646546161616161616"
   ]
  },
  {
   "cell_type": "code",
   "execution_count": 6,
   "id": "426b8727",
   "metadata": {},
   "outputs": [
    {
     "data": {
      "text/plain": [
       "6546646466151313131654978491313184646464616161646546161616161616"
      ]
     },
     "execution_count": 6,
     "metadata": {},
     "output_type": "execute_result"
    }
   ],
   "source": [
    "a\n"
   ]
  },
  {
   "cell_type": "code",
   "execution_count": 8,
   "id": "3baca510",
   "metadata": {},
   "outputs": [],
   "source": [
    "a = 1.0"
   ]
  },
  {
   "cell_type": "code",
   "execution_count": 9,
   "id": "a01debcf",
   "metadata": {},
   "outputs": [
    {
     "data": {
      "text/plain": [
       "1.0"
      ]
     },
     "execution_count": 9,
     "metadata": {},
     "output_type": "execute_result"
    }
   ],
   "source": [
    "a"
   ]
  },
  {
   "cell_type": "markdown",
   "id": "b9780d68",
   "metadata": {},
   "source": [
    "Array"
   ]
  },
  {
   "cell_type": "code",
   "execution_count": 10,
   "id": "6031d666",
   "metadata": {},
   "outputs": [],
   "source": [
    "a = (1, 2, 3)"
   ]
  },
  {
   "cell_type": "code",
   "execution_count": 11,
   "id": "9008bec1",
   "metadata": {},
   "outputs": [
    {
     "data": {
      "text/plain": [
       "2"
      ]
     },
     "execution_count": 11,
     "metadata": {},
     "output_type": "execute_result"
    }
   ],
   "source": [
    "a[1]"
   ]
  },
  {
   "cell_type": "markdown",
   "id": "4668e41d",
   "metadata": {},
   "source": [
    "Tuple"
   ]
  },
  {
   "cell_type": "code",
   "execution_count": 12,
   "id": "b5eedc72",
   "metadata": {},
   "outputs": [],
   "source": [
    "a =[1,2,3]"
   ]
  },
  {
   "cell_type": "code",
   "execution_count": 13,
   "id": "96021791",
   "metadata": {},
   "outputs": [],
   "source": [
    "b = (1, 2, 3)"
   ]
  },
  {
   "cell_type": "code",
   "execution_count": 14,
   "id": "1276a2cb",
   "metadata": {},
   "outputs": [
    {
     "data": {
      "text/plain": [
       "6"
      ]
     },
     "execution_count": 14,
     "metadata": {},
     "output_type": "execute_result"
    }
   ],
   "source": [
    "a[2] + b[2]"
   ]
  },
  {
   "cell_type": "code",
   "execution_count": 15,
   "id": "f1f7269a",
   "metadata": {},
   "outputs": [
    {
     "data": {
      "text/plain": [
       "[1, 2, 3]"
      ]
     },
     "execution_count": 15,
     "metadata": {},
     "output_type": "execute_result"
    }
   ],
   "source": [
    "a"
   ]
  },
  {
   "cell_type": "markdown",
   "id": "b975eb44",
   "metadata": {},
   "source": [
    "Always remember:\n",
    "\n",
    "- Double equal is comparison\n",
    "- Single equal is assignment"
   ]
  },
  {
   "cell_type": "code",
   "execution_count": 23,
   "id": "8431dab5",
   "metadata": {},
   "outputs": [
    {
     "name": "stdout",
     "output_type": "stream",
     "text": [
      "4\n"
     ]
    }
   ],
   "source": [
    "a = 3\n",
    "if a % 2 == 1:\n",
    "    a+=1 # this is equivalent to a = a + 1\n",
    "    print(a)"
   ]
  },
  {
   "cell_type": "markdown",
   "id": "72fd2db0",
   "metadata": {},
   "source": [
    "I want to increment one if a a is an odd number but I want to assign a = 0 if a is an even number"
   ]
  },
  {
   "cell_type": "code",
   "execution_count": 24,
   "id": "4fab7855",
   "metadata": {},
   "outputs": [
    {
     "name": "stdout",
     "output_type": "stream",
     "text": [
      "6\n"
     ]
    }
   ],
   "source": [
    "a = 5  # Change this to any number you want to check and possibly modify\n",
    "\n",
    "if a % 2 == 1:  # a is an odd number\n",
    "    a += 1\n",
    "else:  # a is an even number\n",
    "    a = 0\n",
    "\n",
    "print(a)"
   ]
  },
  {
   "cell_type": "code",
   "execution_count": 26,
   "id": "4edeff3b",
   "metadata": {},
   "outputs": [
    {
     "name": "stdout",
     "output_type": "stream",
     "text": [
      "2\n"
     ]
    }
   ],
   "source": [
    "a = 1  # Change this to any number you want to check and possibly modify\n",
    "\n",
    "if a % 2 == 1:  # a is an odd number\n",
    "    a += 1\n",
    "else:  # a is an even number\n",
    "    a = 0\n",
    "\n",
    "print(a)"
   ]
  },
  {
   "cell_type": "code",
   "execution_count": 28,
   "id": "8d4c979f",
   "metadata": {},
   "outputs": [
    {
     "name": "stdout",
     "output_type": "stream",
     "text": [
      "0\n"
     ]
    }
   ],
   "source": [
    "a = 0 # Change this to any number you want to check and possibly modify\n",
    "\n",
    "if a % 2 == 1:  # a is an odd number\n",
    "    a += 1\n",
    "elif a % 2==0:\n",
    "    a = 0\n",
    "else:  # a is an even number\n",
    "    print('This should never happen')\n",
    "\n",
    "print(a)"
   ]
  },
  {
   "cell_type": "code",
   "execution_count": 33,
   "id": "d8c7384e",
   "metadata": {},
   "outputs": [
    {
     "name": "stdout",
     "output_type": "stream",
     "text": [
      "2\n",
      "2\n",
      "2\n",
      "2\n"
     ]
    }
   ],
   "source": [
    "a =2\n",
    "#for loops are also used to iterate iterables\n",
    "iterable_a = [7,\"hello\",7,6]\n",
    "\n",
    "for i in iterable_a:\n",
    "    if type(a) is str:\n",
    "        continue\n",
    "    print(a)\n"
   ]
  },
  {
   "cell_type": "code",
   "execution_count": 38,
   "id": "16286911",
   "metadata": {},
   "outputs": [
    {
     "name": "stdout",
     "output_type": "stream",
     "text": [
      "it is freater than 60\n"
     ]
    }
   ],
   "source": [
    "#check if sum of the lsit stored in c is greater than 60\n",
    "c= [1,2,300,5,10]\n",
    "accumulator = 0\n",
    "for a in c:\n",
    "    accumulator += a\n",
    "    if accumulator > 60:\n",
    "        print('it is freater than 60')\n",
    "        break"
   ]
  },
  {
   "cell_type": "markdown",
   "id": "cce29420",
   "metadata": {},
   "source": [
    "Exercise 1. Write a program which asks the user for a number. If number is even print ‘Even’,\n",
    "else print ‘Odd’."
   ]
  },
  {
   "cell_type": "code",
   "execution_count": 43,
   "id": "12de7af4",
   "metadata": {},
   "outputs": [
    {
     "name": "stdout",
     "output_type": "stream",
     "text": [
      "Enter a number: 10\n",
      "Even\n"
     ]
    }
   ],
   "source": [
    "# Input: Get a number from the user\n",
    "user_input = input(\"Enter a number: \")\n",
    "\n",
    "# Check if the input is a valid integer\n",
    "if user_input.isdigit():\n",
    "    number = int(user_input)\n",
    "    \n",
    "    # Check if the number is even or odd\n",
    "    if number % 2 == 0:\n",
    "        print(\"Even\")\n",
    "    else:\n",
    "        print(\"Odd\")\n",
    "else:\n",
    "    print(\"Invalid input. Please enter a valid number.\")"
   ]
  },
  {
   "cell_type": "markdown",
   "id": "440e8a42",
   "metadata": {},
   "source": [
    "Exercise 2. Write a program to print counting from 1 to 10:\n",
    "- Using a for loop\n",
    "- Using a while loop"
   ]
  },
  {
   "cell_type": "code",
   "execution_count": 44,
   "id": "325ce834",
   "metadata": {},
   "outputs": [
    {
     "name": "stdout",
     "output_type": "stream",
     "text": [
      "1\n",
      "2\n",
      "3\n",
      "4\n",
      "5\n",
      "6\n",
      "7\n",
      "8\n",
      "9\n",
      "10\n"
     ]
    }
   ],
   "source": [
    "# Using a for loop to count from 1 to 10\n",
    "for i in range(1, 11):\n",
    "    print(i)\n"
   ]
  },
  {
   "cell_type": "code",
   "execution_count": 45,
   "id": "58957ab4",
   "metadata": {},
   "outputs": [
    {
     "name": "stdout",
     "output_type": "stream",
     "text": [
      "1\n",
      "2\n",
      "3\n",
      "4\n",
      "5\n",
      "6\n",
      "7\n",
      "8\n",
      "9\n",
      "10\n"
     ]
    }
   ],
   "source": [
    "# Using a while loop to count from 1 to 10\n",
    "i = 1\n",
    "while i <= 10:\n",
    "    print(i)\n",
    "    i += 1\n"
   ]
  },
  {
   "cell_type": "markdown",
   "id": "fb4bdfb0",
   "metadata": {},
   "source": [
    "Exercise 3. Write a program which prints all the divisors of a number"
   ]
  },
  {
   "cell_type": "code",
   "execution_count": 39,
   "id": "150a1a88",
   "metadata": {},
   "outputs": [
    {
     "name": "stdout",
     "output_type": "stream",
     "text": [
      "Enter a number: 10\n",
      "Divisors of 10 are: [1, 2, 5, 10]\n"
     ]
    }
   ],
   "source": [
    "# Input: Get the number from the user\n",
    "num = int(input(\"Enter a number: \"))\n",
    "\n",
    "# Initialize an empty list to store the divisors\n",
    "divisors = []\n",
    "\n",
    "# Find the divisors of the number\n",
    "for i in range(1, num + 1):\n",
    "    if num % i == 0:\n",
    "        divisors.append(i)\n",
    "\n",
    "# Print the divisors\n",
    "print(f\"Divisors of {num} are: {divisors}\")"
   ]
  },
  {
   "cell_type": "markdown",
   "id": "38c413f1",
   "metadata": {},
   "source": [
    "Exercise 4. Write a program that iterates over a list and prints the numbers that are prime."
   ]
  },
  {
   "cell_type": "code",
   "execution_count": 40,
   "id": "468c2039",
   "metadata": {},
   "outputs": [
    {
     "name": "stdout",
     "output_type": "stream",
     "text": [
      "Prime numbers in the list:\n",
      "2\n",
      "7\n",
      "11\n",
      "17\n",
      "23\n",
      "29\n"
     ]
    }
   ],
   "source": [
    "# Function to check if a number is prime\n",
    "def is_prime(n):\n",
    "    if n <= 1:\n",
    "        return False\n",
    "    if n <= 3:\n",
    "        return True\n",
    "    if n % 2 == 0 or n % 3 == 0:\n",
    "        return False\n",
    "    i = 5\n",
    "    while i * i <= n:\n",
    "        if n % i == 0 or n % (i + 2) == 0:\n",
    "            return False\n",
    "        i += 6\n",
    "    return True\n",
    "\n",
    "# Input: List of numbers\n",
    "numbers = [2, 7, 10, 11, 15, 17, 20, 23, 29]\n",
    "\n",
    "# Iterate over the list and print prime numbers\n",
    "print(\"Prime numbers in the list:\")\n",
    "for num in numbers:\n",
    "    if is_prime(num):\n",
    "        print(num)"
   ]
  },
  {
   "cell_type": "markdown",
   "id": "ae74c761",
   "metadata": {},
   "source": [
    "Exercise 5. Write a program that asks the user for a number and prints if the number is odd or\n",
    "even. The program should print “error” if the input from the user is not a number."
   ]
  },
  {
   "cell_type": "code",
   "execution_count": 42,
   "id": "3e25640a",
   "metadata": {},
   "outputs": [
    {
     "name": "stdout",
     "output_type": "stream",
     "text": [
      "Enter a number: *\n",
      "Error: Not a valid number.\n"
     ]
    }
   ],
   "source": [
    "# Input: Get a number from the user\n",
    "user_input = input(\"Enter a number: \")\n",
    "\n",
    "# Check if the input is a valid number\n",
    "if user_input.isdigit():\n",
    "    number = int(user_input)\n",
    "    if number % 2 == 0:\n",
    "        print(f\"{number} is even.\")\n",
    "    else:\n",
    "        print(f\"{number} is odd.\")\n",
    "else:\n",
    "    print(\"Error: Not a valid number.\")"
   ]
  },
  {
   "cell_type": "code",
   "execution_count": null,
   "id": "679387f4",
   "metadata": {},
   "outputs": [],
   "source": []
  }
 ],
 "metadata": {
  "kernelspec": {
   "display_name": "Python 3 (ipykernel)",
   "language": "python",
   "name": "python3"
  },
  "language_info": {
   "codemirror_mode": {
    "name": "ipython",
    "version": 3
   },
   "file_extension": ".py",
   "mimetype": "text/x-python",
   "name": "python",
   "nbconvert_exporter": "python",
   "pygments_lexer": "ipython3",
   "version": "3.9.12"
  }
 },
 "nbformat": 4,
 "nbformat_minor": 5
}
