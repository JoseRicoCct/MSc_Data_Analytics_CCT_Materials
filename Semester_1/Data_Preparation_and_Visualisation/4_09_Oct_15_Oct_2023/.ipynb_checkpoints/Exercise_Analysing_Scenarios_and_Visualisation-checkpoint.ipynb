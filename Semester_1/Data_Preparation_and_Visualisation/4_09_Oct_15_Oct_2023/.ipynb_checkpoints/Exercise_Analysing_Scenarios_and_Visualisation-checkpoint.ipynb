{
 "cells": [
  {
   "cell_type": "markdown",
   "id": "1dca945f",
   "metadata": {},
   "source": [
    "# 12.10.2023"
   ]
  },
  {
   "cell_type": "markdown",
   "id": "a60b723e",
   "metadata": {},
   "source": [
    "# Exercise: Analysing Different Scenarios and Generating the Appropriate Visualization"
   ]
  },
  {
   "cell_type": "markdown",
   "id": "9d995819",
   "metadata": {},
   "source": [
    "We'll be working with the 120 years of Olympic History dataset acquired by Randi Griffin\n",
    "from https://www.sports-reference.com/ and available on Moodle as “athlete_events.csv” .\n",
    "Your Exercise is to identify the top five sports based on the largest number of medals awarded\n",
    "in the year 2016, and then perform the following analysis:\n",
    "1. Generate a plot indicating the number of medals awarded in each of the top five sports\n",
    "in 2016.\n",
    "2. Plot a graph depicting the distribution of the age of medal winners in the top five\n",
    "sports in 2016.\n",
    "3. Find out which national teams won the largest number of medals in the top five sports\n",
    "in 2016.\n",
    "4. Observe the trend in the average weight of male and female athletes winning in the\n",
    "top five sports in 2016.\n",
    "\n",
    "**High-Level Steps**\n",
    "\n",
    "1. Download the dataset and format it as a pandas DataFrame.\n",
    "2. Filter the DataFrame to only include the rows corresponding to medal winners from 2016.\n",
    "3. Find out the medals awarded in 2016 for each sport.\n",
    "4. List the top five sports based on the largest number of medals awarded. Filter the DataFrame one more time to only include the records for the top five sports in 2016.\n",
    "5. Generate a bar plot of record counts corresponding to each of the top five sports.\n",
    "6. Generate a histogram for the Age feature of all medal winners in the top five sports (2016).\n",
    "7. Generate a bar plot indicating how many medals were won by each country's team in the top five sports in 2016.\n",
    "8. Generate a bar plot indicating the average weight of players, categorized based on gender, winning in the top five sports in 2016."
   ]
  },
  {
   "cell_type": "markdown",
   "id": "74cd2b84",
   "metadata": {},
   "source": [
    "The expected output should be:\n",
    "\n",
    "After Step 1:"
   ]
  },
  {
   "cell_type": "code",
   "execution_count": 1,
   "id": "76b26167",
   "metadata": {},
   "outputs": [
    {
     "data": {
      "text/html": [
       "<div>\n",
       "<style scoped>\n",
       "    .dataframe tbody tr th:only-of-type {\n",
       "        vertical-align: middle;\n",
       "    }\n",
       "\n",
       "    .dataframe tbody tr th {\n",
       "        vertical-align: top;\n",
       "    }\n",
       "\n",
       "    .dataframe thead th {\n",
       "        text-align: right;\n",
       "    }\n",
       "</style>\n",
       "<table border=\"1\" class=\"dataframe\">\n",
       "  <thead>\n",
       "    <tr style=\"text-align: right;\">\n",
       "      <th></th>\n",
       "      <th>ID</th>\n",
       "      <th>Name</th>\n",
       "      <th>Sex</th>\n",
       "      <th>Age</th>\n",
       "      <th>Height</th>\n",
       "      <th>Weight</th>\n",
       "      <th>Team</th>\n",
       "      <th>NOC</th>\n",
       "      <th>Games</th>\n",
       "      <th>Year</th>\n",
       "      <th>Season</th>\n",
       "      <th>City</th>\n",
       "      <th>Sport</th>\n",
       "      <th>Event</th>\n",
       "      <th>Medal</th>\n",
       "    </tr>\n",
       "  </thead>\n",
       "  <tbody>\n",
       "    <tr>\n",
       "      <th>0</th>\n",
       "      <td>1</td>\n",
       "      <td>A Dijiang</td>\n",
       "      <td>M</td>\n",
       "      <td>24.0</td>\n",
       "      <td>180.0</td>\n",
       "      <td>80.0</td>\n",
       "      <td>China</td>\n",
       "      <td>CHN</td>\n",
       "      <td>1992 Summer</td>\n",
       "      <td>1992</td>\n",
       "      <td>Summer</td>\n",
       "      <td>Barcelona</td>\n",
       "      <td>Basketball</td>\n",
       "      <td>Basketball Men's Basketball</td>\n",
       "      <td>NaN</td>\n",
       "    </tr>\n",
       "    <tr>\n",
       "      <th>1</th>\n",
       "      <td>2</td>\n",
       "      <td>A Lamusi</td>\n",
       "      <td>M</td>\n",
       "      <td>23.0</td>\n",
       "      <td>170.0</td>\n",
       "      <td>60.0</td>\n",
       "      <td>China</td>\n",
       "      <td>CHN</td>\n",
       "      <td>2012 Summer</td>\n",
       "      <td>2012</td>\n",
       "      <td>Summer</td>\n",
       "      <td>London</td>\n",
       "      <td>Judo</td>\n",
       "      <td>Judo Men's Extra-Lightweight</td>\n",
       "      <td>NaN</td>\n",
       "    </tr>\n",
       "    <tr>\n",
       "      <th>2</th>\n",
       "      <td>3</td>\n",
       "      <td>Gunnar Nielsen Aaby</td>\n",
       "      <td>M</td>\n",
       "      <td>24.0</td>\n",
       "      <td>NaN</td>\n",
       "      <td>NaN</td>\n",
       "      <td>Denmark</td>\n",
       "      <td>DEN</td>\n",
       "      <td>1920 Summer</td>\n",
       "      <td>1920</td>\n",
       "      <td>Summer</td>\n",
       "      <td>Antwerpen</td>\n",
       "      <td>Football</td>\n",
       "      <td>Football Men's Football</td>\n",
       "      <td>NaN</td>\n",
       "    </tr>\n",
       "    <tr>\n",
       "      <th>3</th>\n",
       "      <td>4</td>\n",
       "      <td>Edgar Lindenau Aabye</td>\n",
       "      <td>M</td>\n",
       "      <td>34.0</td>\n",
       "      <td>NaN</td>\n",
       "      <td>NaN</td>\n",
       "      <td>Denmark/Sweden</td>\n",
       "      <td>DEN</td>\n",
       "      <td>1900 Summer</td>\n",
       "      <td>1900</td>\n",
       "      <td>Summer</td>\n",
       "      <td>Paris</td>\n",
       "      <td>Tug-Of-War</td>\n",
       "      <td>Tug-Of-War Men's Tug-Of-War</td>\n",
       "      <td>Gold</td>\n",
       "    </tr>\n",
       "    <tr>\n",
       "      <th>4</th>\n",
       "      <td>5</td>\n",
       "      <td>Christine Jacoba Aaftink</td>\n",
       "      <td>F</td>\n",
       "      <td>21.0</td>\n",
       "      <td>185.0</td>\n",
       "      <td>82.0</td>\n",
       "      <td>Netherlands</td>\n",
       "      <td>NED</td>\n",
       "      <td>1988 Winter</td>\n",
       "      <td>1988</td>\n",
       "      <td>Winter</td>\n",
       "      <td>Calgary</td>\n",
       "      <td>Speed Skating</td>\n",
       "      <td>Speed Skating Women's 500 metres</td>\n",
       "      <td>NaN</td>\n",
       "    </tr>\n",
       "  </tbody>\n",
       "</table>\n",
       "</div>"
      ],
      "text/plain": [
       "   ID                      Name Sex   Age  Height  Weight            Team  \\\n",
       "0   1                 A Dijiang   M  24.0   180.0    80.0           China   \n",
       "1   2                  A Lamusi   M  23.0   170.0    60.0           China   \n",
       "2   3       Gunnar Nielsen Aaby   M  24.0     NaN     NaN         Denmark   \n",
       "3   4      Edgar Lindenau Aabye   M  34.0     NaN     NaN  Denmark/Sweden   \n",
       "4   5  Christine Jacoba Aaftink   F  21.0   185.0    82.0     Netherlands   \n",
       "\n",
       "   NOC        Games  Year  Season       City          Sport  \\\n",
       "0  CHN  1992 Summer  1992  Summer  Barcelona     Basketball   \n",
       "1  CHN  2012 Summer  2012  Summer     London           Judo   \n",
       "2  DEN  1920 Summer  1920  Summer  Antwerpen       Football   \n",
       "3  DEN  1900 Summer  1900  Summer      Paris     Tug-Of-War   \n",
       "4  NED  1988 Winter  1988  Winter    Calgary  Speed Skating   \n",
       "\n",
       "                              Event Medal  \n",
       "0       Basketball Men's Basketball   NaN  \n",
       "1      Judo Men's Extra-Lightweight   NaN  \n",
       "2           Football Men's Football   NaN  \n",
       "3       Tug-Of-War Men's Tug-Of-War  Gold  \n",
       "4  Speed Skating Women's 500 metres   NaN  "
      ]
     },
     "execution_count": 1,
     "metadata": {},
     "output_type": "execute_result"
    }
   ],
   "source": [
    "# import pandas data set\n",
    "import pandas as pd\n",
    "import numpy as np # linear algebra\n",
    "# Load the dataset into dataframe (df) \n",
    "df = pd.read_csv(\"athlete_events.csv\")\n",
    "\n",
    "# Display first 5 records\n",
    "df.head()"
   ]
  },
  {
   "cell_type": "markdown",
   "id": "b5ccfc4a",
   "metadata": {},
   "source": [
    "**Figure 1.32: Olympics dataset**"
   ]
  },
  {
   "cell_type": "markdown",
   "id": "13260aa8",
   "metadata": {},
   "source": [
    "After Step 2:"
   ]
  },
  {
   "cell_type": "code",
   "execution_count": 2,
   "id": "f690c847",
   "metadata": {},
   "outputs": [
    {
     "data": {
      "text/html": [
       "<div>\n",
       "<style scoped>\n",
       "    .dataframe tbody tr th:only-of-type {\n",
       "        vertical-align: middle;\n",
       "    }\n",
       "\n",
       "    .dataframe tbody tr th {\n",
       "        vertical-align: top;\n",
       "    }\n",
       "\n",
       "    .dataframe thead th {\n",
       "        text-align: right;\n",
       "    }\n",
       "</style>\n",
       "<table border=\"1\" class=\"dataframe\">\n",
       "  <thead>\n",
       "    <tr style=\"text-align: right;\">\n",
       "      <th></th>\n",
       "      <th>ID</th>\n",
       "      <th>Name</th>\n",
       "      <th>Sex</th>\n",
       "      <th>Age</th>\n",
       "      <th>Height</th>\n",
       "      <th>Weight</th>\n",
       "      <th>Team</th>\n",
       "      <th>NOC</th>\n",
       "      <th>Games</th>\n",
       "      <th>Year</th>\n",
       "      <th>Season</th>\n",
       "      <th>City</th>\n",
       "      <th>Sport</th>\n",
       "      <th>Event</th>\n",
       "      <th>Medal</th>\n",
       "    </tr>\n",
       "  </thead>\n",
       "  <tbody>\n",
       "    <tr>\n",
       "      <th>3</th>\n",
       "      <td>4</td>\n",
       "      <td>Edgar Lindenau Aabye</td>\n",
       "      <td>M</td>\n",
       "      <td>34.0</td>\n",
       "      <td>NaN</td>\n",
       "      <td>NaN</td>\n",
       "      <td>Denmark/Sweden</td>\n",
       "      <td>DEN</td>\n",
       "      <td>1900 Summer</td>\n",
       "      <td>1900</td>\n",
       "      <td>Summer</td>\n",
       "      <td>Paris</td>\n",
       "      <td>Tug-Of-War</td>\n",
       "      <td>Tug-Of-War Men's Tug-Of-War</td>\n",
       "      <td>Gold</td>\n",
       "    </tr>\n",
       "    <tr>\n",
       "      <th>37</th>\n",
       "      <td>15</td>\n",
       "      <td>Arvo Ossian Aaltonen</td>\n",
       "      <td>M</td>\n",
       "      <td>30.0</td>\n",
       "      <td>NaN</td>\n",
       "      <td>NaN</td>\n",
       "      <td>Finland</td>\n",
       "      <td>FIN</td>\n",
       "      <td>1920 Summer</td>\n",
       "      <td>1920</td>\n",
       "      <td>Summer</td>\n",
       "      <td>Antwerpen</td>\n",
       "      <td>Swimming</td>\n",
       "      <td>Swimming Men's 200 metres Breaststroke</td>\n",
       "      <td>Bronze</td>\n",
       "    </tr>\n",
       "    <tr>\n",
       "      <th>38</th>\n",
       "      <td>15</td>\n",
       "      <td>Arvo Ossian Aaltonen</td>\n",
       "      <td>M</td>\n",
       "      <td>30.0</td>\n",
       "      <td>NaN</td>\n",
       "      <td>NaN</td>\n",
       "      <td>Finland</td>\n",
       "      <td>FIN</td>\n",
       "      <td>1920 Summer</td>\n",
       "      <td>1920</td>\n",
       "      <td>Summer</td>\n",
       "      <td>Antwerpen</td>\n",
       "      <td>Swimming</td>\n",
       "      <td>Swimming Men's 400 metres Breaststroke</td>\n",
       "      <td>Bronze</td>\n",
       "    </tr>\n",
       "    <tr>\n",
       "      <th>40</th>\n",
       "      <td>16</td>\n",
       "      <td>Juhamatti Tapio Aaltonen</td>\n",
       "      <td>M</td>\n",
       "      <td>28.0</td>\n",
       "      <td>184.0</td>\n",
       "      <td>85.0</td>\n",
       "      <td>Finland</td>\n",
       "      <td>FIN</td>\n",
       "      <td>2014 Winter</td>\n",
       "      <td>2014</td>\n",
       "      <td>Winter</td>\n",
       "      <td>Sochi</td>\n",
       "      <td>Ice Hockey</td>\n",
       "      <td>Ice Hockey Men's Ice Hockey</td>\n",
       "      <td>Bronze</td>\n",
       "    </tr>\n",
       "    <tr>\n",
       "      <th>41</th>\n",
       "      <td>17</td>\n",
       "      <td>Paavo Johannes Aaltonen</td>\n",
       "      <td>M</td>\n",
       "      <td>28.0</td>\n",
       "      <td>175.0</td>\n",
       "      <td>64.0</td>\n",
       "      <td>Finland</td>\n",
       "      <td>FIN</td>\n",
       "      <td>1948 Summer</td>\n",
       "      <td>1948</td>\n",
       "      <td>Summer</td>\n",
       "      <td>London</td>\n",
       "      <td>Gymnastics</td>\n",
       "      <td>Gymnastics Men's Individual All-Around</td>\n",
       "      <td>Bronze</td>\n",
       "    </tr>\n",
       "  </tbody>\n",
       "</table>\n",
       "</div>"
      ],
      "text/plain": [
       "    ID                      Name Sex   Age  Height  Weight            Team  \\\n",
       "3    4      Edgar Lindenau Aabye   M  34.0     NaN     NaN  Denmark/Sweden   \n",
       "37  15      Arvo Ossian Aaltonen   M  30.0     NaN     NaN         Finland   \n",
       "38  15      Arvo Ossian Aaltonen   M  30.0     NaN     NaN         Finland   \n",
       "40  16  Juhamatti Tapio Aaltonen   M  28.0   184.0    85.0         Finland   \n",
       "41  17   Paavo Johannes Aaltonen   M  28.0   175.0    64.0         Finland   \n",
       "\n",
       "    NOC        Games  Year  Season       City       Sport  \\\n",
       "3   DEN  1900 Summer  1900  Summer      Paris  Tug-Of-War   \n",
       "37  FIN  1920 Summer  1920  Summer  Antwerpen    Swimming   \n",
       "38  FIN  1920 Summer  1920  Summer  Antwerpen    Swimming   \n",
       "40  FIN  2014 Winter  2014  Winter      Sochi  Ice Hockey   \n",
       "41  FIN  1948 Summer  1948  Summer     London  Gymnastics   \n",
       "\n",
       "                                     Event   Medal  \n",
       "3              Tug-Of-War Men's Tug-Of-War    Gold  \n",
       "37  Swimming Men's 200 metres Breaststroke  Bronze  \n",
       "38  Swimming Men's 400 metres Breaststroke  Bronze  \n",
       "40             Ice Hockey Men's Ice Hockey  Bronze  \n",
       "41  Gymnastics Men's Individual All-Around  Bronze  "
      ]
     },
     "execution_count": 2,
     "metadata": {},
     "output_type": "execute_result"
    }
   ],
   "source": [
    "#To get the desired output I will start dropping NaN values from column Medal:\n",
    "\n",
    "df = df.dropna(subset=['Medal'])\n",
    "\n",
    "df.head()"
   ]
  },
  {
   "cell_type": "markdown",
   "id": "fab41645",
   "metadata": {},
   "source": [
    "**Figure 1.33: Filtered Olympics DataFrame**\n"
   ]
  },
  {
   "cell_type": "markdown",
   "id": "aa1eb9b8",
   "metadata": {},
   "source": [
    "After Step 3:"
   ]
  },
  {
   "cell_type": "code",
   "execution_count": 3,
   "id": "69e7aa6c",
   "metadata": {},
   "outputs": [
    {
     "data": {
      "text/plain": [
       "Athletics                192\n",
       "Swimming                 191\n",
       "Rowing                   144\n",
       "Football                 106\n",
       "Hockey                    99\n",
       "Handball                  89\n",
       "Cycling                   84\n",
       "Canoeing                  82\n",
       "Water Polo                78\n",
       "Rugby Sevens              74\n",
       "Basketball                72\n",
       "Volleyball                72\n",
       "Wrestling                 72\n",
       "Gymnastics                66\n",
       "Fencing                   65\n",
       "Judo                      56\n",
       "Boxing                    51\n",
       "Sailing                   45\n",
       "Shooting                  45\n",
       "Equestrianism             45\n",
       "Weightlifting             45\n",
       "Diving                    36\n",
       "Taekwondo                 32\n",
       "Synchronized Swimming     32\n",
       "Badminton                 24\n",
       "Tennis                    24\n",
       "Table Tennis              24\n",
       "Archery                   24\n",
       "Rhythmic Gymnastics       18\n",
       "Beach Volleyball          12\n",
       "Triathlon                  6\n",
       "Modern Pentathlon          6\n",
       "Trampolining               6\n",
       "Golf                       6\n",
       "Name: Sport, dtype: int64"
      ]
     },
     "execution_count": 3,
     "metadata": {},
     "output_type": "execute_result"
    }
   ],
   "source": [
    "# Group the DataFrame by the 'Sport' column and count the medals for each sport.\n",
    "medals_2016_by_sport = df[(df.Year==2016)]\n",
    "\n",
    "medals_2016_by_sport.Sport.value_counts()"
   ]
  },
  {
   "cell_type": "markdown",
   "id": "1d721972",
   "metadata": {},
   "source": [
    "**Figure 1.34: The number of medals awarded**"
   ]
  },
  {
   "cell_type": "markdown",
   "id": "3a6bf39c",
   "metadata": {},
   "source": [
    "After Step 4:"
   ]
  },
  {
   "cell_type": "code",
   "execution_count": 4,
   "id": "e77c0403",
   "metadata": {},
   "outputs": [
    {
     "data": {
      "text/html": [
       "<div>\n",
       "<style scoped>\n",
       "    .dataframe tbody tr th:only-of-type {\n",
       "        vertical-align: middle;\n",
       "    }\n",
       "\n",
       "    .dataframe tbody tr th {\n",
       "        vertical-align: top;\n",
       "    }\n",
       "\n",
       "    .dataframe thead th {\n",
       "        text-align: right;\n",
       "    }\n",
       "</style>\n",
       "<table border=\"1\" class=\"dataframe\">\n",
       "  <thead>\n",
       "    <tr style=\"text-align: right;\">\n",
       "      <th></th>\n",
       "      <th>ID</th>\n",
       "      <th>Name</th>\n",
       "      <th>Sex</th>\n",
       "      <th>Age</th>\n",
       "      <th>Height</th>\n",
       "      <th>Weight</th>\n",
       "      <th>Team</th>\n",
       "      <th>NOC</th>\n",
       "      <th>Games</th>\n",
       "      <th>Year</th>\n",
       "      <th>Season</th>\n",
       "      <th>City</th>\n",
       "      <th>Sport</th>\n",
       "      <th>Event</th>\n",
       "      <th>Medal</th>\n",
       "    </tr>\n",
       "  </thead>\n",
       "  <tbody>\n",
       "    <tr>\n",
       "      <th>158</th>\n",
       "      <td>62</td>\n",
       "      <td>Giovanni Abagnale</td>\n",
       "      <td>M</td>\n",
       "      <td>21.0</td>\n",
       "      <td>198.0</td>\n",
       "      <td>90.0</td>\n",
       "      <td>Italy</td>\n",
       "      <td>ITA</td>\n",
       "      <td>2016 Summer</td>\n",
       "      <td>2016</td>\n",
       "      <td>Summer</td>\n",
       "      <td>Rio de Janeiro</td>\n",
       "      <td>Rowing</td>\n",
       "      <td>Rowing Men's Coxless Pairs</td>\n",
       "      <td>Bronze</td>\n",
       "    </tr>\n",
       "    <tr>\n",
       "      <th>814</th>\n",
       "      <td>465</td>\n",
       "      <td>Matthew \"Matt\" Abood</td>\n",
       "      <td>M</td>\n",
       "      <td>30.0</td>\n",
       "      <td>197.0</td>\n",
       "      <td>92.0</td>\n",
       "      <td>Australia</td>\n",
       "      <td>AUS</td>\n",
       "      <td>2016 Summer</td>\n",
       "      <td>2016</td>\n",
       "      <td>Summer</td>\n",
       "      <td>Rio de Janeiro</td>\n",
       "      <td>Swimming</td>\n",
       "      <td>Swimming Men's 4 x 100 metres Freestyle Relay</td>\n",
       "      <td>Bronze</td>\n",
       "    </tr>\n",
       "    <tr>\n",
       "      <th>1228</th>\n",
       "      <td>690</td>\n",
       "      <td>Chantal Achterberg</td>\n",
       "      <td>F</td>\n",
       "      <td>31.0</td>\n",
       "      <td>172.0</td>\n",
       "      <td>72.0</td>\n",
       "      <td>Netherlands</td>\n",
       "      <td>NED</td>\n",
       "      <td>2016 Summer</td>\n",
       "      <td>2016</td>\n",
       "      <td>Summer</td>\n",
       "      <td>Rio de Janeiro</td>\n",
       "      <td>Rowing</td>\n",
       "      <td>Rowing Women's Quadruple Sculls</td>\n",
       "      <td>Silver</td>\n",
       "    </tr>\n",
       "    <tr>\n",
       "      <th>1529</th>\n",
       "      <td>846</td>\n",
       "      <td>Valerie Kasanita Adams-Vili (-Price)</td>\n",
       "      <td>F</td>\n",
       "      <td>31.0</td>\n",
       "      <td>193.0</td>\n",
       "      <td>120.0</td>\n",
       "      <td>New Zealand</td>\n",
       "      <td>NZL</td>\n",
       "      <td>2016 Summer</td>\n",
       "      <td>2016</td>\n",
       "      <td>Summer</td>\n",
       "      <td>Rio de Janeiro</td>\n",
       "      <td>Athletics</td>\n",
       "      <td>Athletics Women's Shot Put</td>\n",
       "      <td>Silver</td>\n",
       "    </tr>\n",
       "    <tr>\n",
       "      <th>1847</th>\n",
       "      <td>1017</td>\n",
       "      <td>Nathan Ghar-Jun Adrian</td>\n",
       "      <td>M</td>\n",
       "      <td>27.0</td>\n",
       "      <td>198.0</td>\n",
       "      <td>100.0</td>\n",
       "      <td>United States</td>\n",
       "      <td>USA</td>\n",
       "      <td>2016 Summer</td>\n",
       "      <td>2016</td>\n",
       "      <td>Summer</td>\n",
       "      <td>Rio de Janeiro</td>\n",
       "      <td>Swimming</td>\n",
       "      <td>Swimming Men's 50 metres Freestyle</td>\n",
       "      <td>Bronze</td>\n",
       "    </tr>\n",
       "  </tbody>\n",
       "</table>\n",
       "</div>"
      ],
      "text/plain": [
       "        ID                                  Name Sex   Age  Height  Weight  \\\n",
       "158     62                     Giovanni Abagnale   M  21.0   198.0    90.0   \n",
       "814    465                  Matthew \"Matt\" Abood   M  30.0   197.0    92.0   \n",
       "1228   690                    Chantal Achterberg   F  31.0   172.0    72.0   \n",
       "1529   846  Valerie Kasanita Adams-Vili (-Price)   F  31.0   193.0   120.0   \n",
       "1847  1017                Nathan Ghar-Jun Adrian   M  27.0   198.0   100.0   \n",
       "\n",
       "               Team  NOC        Games  Year  Season            City  \\\n",
       "158           Italy  ITA  2016 Summer  2016  Summer  Rio de Janeiro   \n",
       "814       Australia  AUS  2016 Summer  2016  Summer  Rio de Janeiro   \n",
       "1228    Netherlands  NED  2016 Summer  2016  Summer  Rio de Janeiro   \n",
       "1529    New Zealand  NZL  2016 Summer  2016  Summer  Rio de Janeiro   \n",
       "1847  United States  USA  2016 Summer  2016  Summer  Rio de Janeiro   \n",
       "\n",
       "          Sport                                          Event   Medal  \n",
       "158      Rowing                     Rowing Men's Coxless Pairs  Bronze  \n",
       "814    Swimming  Swimming Men's 4 x 100 metres Freestyle Relay  Bronze  \n",
       "1228     Rowing                Rowing Women's Quadruple Sculls  Silver  \n",
       "1529  Athletics                     Athletics Women's Shot Put  Silver  \n",
       "1847   Swimming             Swimming Men's 50 metres Freestyle  Bronze  "
      ]
     },
     "execution_count": 4,
     "metadata": {},
     "output_type": "execute_result"
    }
   ],
   "source": [
    "#Top 5 sports are Athletics, Swimming, Rowing, Football, and   Hockey.\n",
    "\n",
    "# List of the top 5 sports\n",
    "top_sports = ['Athletics', 'Swimming', 'Rowing', 'Football', 'Hockey']\n",
    "\n",
    "# Create a boolean mask to filter for the year 2016 and the top sports.\n",
    "mask = (df['Year'] == 2016) & (df['Sport'].isin(top_sports))\n",
    "\n",
    "# Apply the mask to your DataFrame to get the filtered results.\n",
    "filtered_df_2016 = df[mask]\n",
    "\n",
    "filtered_df_2016.head()"
   ]
  },
  {
   "cell_type": "markdown",
   "id": "514245fb",
   "metadata": {},
   "source": [
    "**Figure 1.35: Olympics DataFrame**"
   ]
  },
  {
   "cell_type": "markdown",
   "id": "6265f081",
   "metadata": {},
   "source": [
    "After Step 5:"
   ]
  },
  {
   "cell_type": "code",
   "execution_count": 5,
   "id": "a4700d55",
   "metadata": {},
   "outputs": [
    {
     "data": {
      "image/png": "[encoded data removed]",
      "text/plain": [
       "<Figure size 540x360 with 1 Axes>"
      ]
     },
     "metadata": {
      "needs_background": "light"
     },
     "output_type": "display_data"
    }
   ],
   "source": [
    "import seaborn as sns\n",
    "import warnings\n",
    "warnings.filterwarnings(\"ignore\")\n",
    "\n",
    "g = sns.catplot('Sport', data=filtered_df_2016, kind=\"count\", aspect=1.5)"
   ]
  },
  {
   "cell_type": "markdown",
   "id": "c6fa980f",
   "metadata": {},
   "source": [
    "**Figure 1.36: Generated bar plot**\n",
    "\n",
    "While most medal winners are between 20 and 30 years of age, there are also medal winners who are exceptionally younger (16 years) or older (40 years). "
   ]
  },
  {
   "cell_type": "markdown",
   "id": "330b4116",
   "metadata": {},
   "source": [
    "After Step 6:"
   ]
  },
  {
   "cell_type": "code",
   "execution_count": 6,
   "id": "6e8f7210",
   "metadata": {},
   "outputs": [
    {
     "data": {
      "text/plain": [
       "<AxesSubplot:xlabel='Age'>"
      ]
     },
     "execution_count": 6,
     "metadata": {},
     "output_type": "execute_result"
    },
    {
     "data": {
      "image/png": "[encoded data removed]",
      "text/plain": [
       "<Figure size 432x288 with 1 Axes>"
      ]
     },
     "metadata": {
      "needs_background": "light"
     },
     "output_type": "display_data"
    }
   ],
   "source": [
    "sns.distplot(filtered_df_2016.Age, kde=False)"
   ]
  },
  {
   "cell_type": "markdown",
   "id": "dbab02f3",
   "metadata": {},
   "source": [
    "**Figure 1.37: Histogram plot with the Age feature**"
   ]
  },
  {
   "cell_type": "markdown",
   "id": "ccb8dba5",
   "metadata": {},
   "source": [
    "After Step 7:"
   ]
  },
  {
   "cell_type": "code",
   "execution_count": 7,
   "id": "799b984e",
   "metadata": {},
   "outputs": [
    {
     "data": {
      "text/plain": [
       "<seaborn.axisgrid.FacetGrid at 0x181a741a8b0>"
      ]
     },
     "execution_count": 7,
     "metadata": {},
     "output_type": "execute_result"
    },
    {
     "data": {
      "image/png": "[encoded data removed]",
      "text/plain": [
       "<Figure size 1080x360 with 1 Axes>"
      ]
     },
     "metadata": {
      "needs_background": "light"
     },
     "output_type": "display_data"
    }
   ],
   "source": [
    "g = sns.catplot('Team', data=filtered_df_2016, kind=\"count\", aspect=3)\n",
    "g.set_xticklabels(rotation=90)"
   ]
  },
  {
   "cell_type": "markdown",
   "id": "daae48aa",
   "metadata": {},
   "source": [
    "**Figure 1.38: Bar plot with the number of medals won**\n",
    "Considering the five sports, the US won the most medals, followed by *Germany, Great Britain, Canada, and Australia.*"
   ]
  },
  {
   "cell_type": "markdown",
   "id": "8d91f549",
   "metadata": {},
   "source": [
    "After Step 8:"
   ]
  },
  {
   "cell_type": "code",
   "execution_count": 8,
   "id": "b412c625",
   "metadata": {},
   "outputs": [
    {
     "data": {
      "text/plain": [
       "<AxesSubplot:xlabel='Sport', ylabel='Weight'>"
      ]
     },
     "execution_count": 8,
     "metadata": {},
     "output_type": "execute_result"
    },
    {
     "data": {
      "image/png": "[encoded data removed]",
      "text/plain": [
       "<Figure size 432x288 with 1 Axes>"
      ]
     },
     "metadata": {},
     "output_type": "display_data"
    }
   ],
   "source": [
    "sns.set(style=\"whitegrid\")\n",
    "\n",
    "sns.barplot(x=\"Sport\", y=\"Weight\", data=filtered_df_2016, estimator=np.mean, hue='Sex')"
   ]
  },
  {
   "cell_type": "markdown",
   "id": "d75411e3",
   "metadata": {},
   "source": [
    "**Figure 1.39: Bar plot with the average weight of players**\n",
    "\n",
    "The bar plot indicates the highest athlete weight in rowing, followed by swimming, and then the other remaining sports.\n",
    "The trend is similar across both male and female players.\n",
    "\n"
   ]
  }
 ],
 "metadata": {
  "kernelspec": {
   "display_name": "Python 3 (ipykernel)",
   "language": "python",
   "name": "python3"
  },
  "language_info": {
   "codemirror_mode": {
    "name": "ipython",
    "version": 3
   },
   "file_extension": ".py",
   "mimetype": "text/x-python",
   "name": "python",
   "nbconvert_exporter": "python",
   "pygments_lexer": "ipython3",
   "version": "3.9.12"
  }
 },
 "nbformat": 4,
 "nbformat_minor": 5
}
