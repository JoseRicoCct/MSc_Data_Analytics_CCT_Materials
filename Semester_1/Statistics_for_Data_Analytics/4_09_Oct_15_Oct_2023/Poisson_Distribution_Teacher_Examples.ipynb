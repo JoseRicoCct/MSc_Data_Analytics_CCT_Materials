{
 "cells": [
  {
   "cell_type": "code",
   "execution_count": 1,
   "id": "59ce8a31",
   "metadata": {},
   "outputs": [],
   "source": [
    "from scipy.stats import poisson"
   ]
  },
  {
   "cell_type": "markdown",
   "id": "63c3c098",
   "metadata": {},
   "source": [
    "Exactly 3 ==> P(X=3)"
   ]
  },
  {
   "cell_type": "code",
   "execution_count": 2,
   "id": "d415fef6",
   "metadata": {},
   "outputs": [
    {
     "data": {
      "text/plain": [
       "0.18044704431548356"
      ]
     },
     "execution_count": 2,
     "metadata": {},
     "output_type": "execute_result"
    }
   ],
   "source": [
    "poisson.pmf(k=3, mu=2)"
   ]
  },
  {
   "cell_type": "markdown",
   "id": "fb1d289c",
   "metadata": {},
   "source": [
    "Less than 3 ==> P(X < 2) or P(X =< 2)"
   ]
  },
  {
   "cell_type": "code",
   "execution_count": 4,
   "id": "349182a2",
   "metadata": {},
   "outputs": [
    {
     "data": {
      "text/plain": [
       "0.6766764161830634"
      ]
     },
     "execution_count": 4,
     "metadata": {},
     "output_type": "execute_result"
    }
   ],
   "source": [
    "poisson.cdf(k=2, mu=2)"
   ]
  },
  {
   "cell_type": "markdown",
   "id": "4f308f9a",
   "metadata": {},
   "source": [
    "Greater than 2 ==> P(X>2) or P(X>=3)\n"
   ]
  },
  {
   "cell_type": "code",
   "execution_count": 5,
   "id": "263dfb07",
   "metadata": {},
   "outputs": [
    {
     "data": {
      "text/plain": [
       "0.32332358381693654"
      ]
     },
     "execution_count": 5,
     "metadata": {},
     "output_type": "execute_result"
    }
   ],
   "source": [
    "poisson.sf(k=2,mu=2)"
   ]
  },
  {
   "cell_type": "markdown",
   "id": "be2d8971",
   "metadata": {},
   "source": [
    "Between 2 and 5 inclusive\n",
    "P(X=<5) - P(X=<1)"
   ]
  },
  {
   "cell_type": "code",
   "execution_count": 6,
   "id": "cfd5dc78",
   "metadata": {},
   "outputs": [
    {
     "data": {
      "text/plain": [
       "0.5774305418095476"
      ]
     },
     "execution_count": 6,
     "metadata": {},
     "output_type": "execute_result"
    }
   ],
   "source": [
    "poisson.cdf(k=5,mu=2)- poisson.cdf(k=1,mu=2)"
   ]
  },
  {
   "cell_type": "code",
   "execution_count": null,
   "id": "8010cfe8",
   "metadata": {},
   "outputs": [],
   "source": []
  }
 ],
 "metadata": {
  "kernelspec": {
   "display_name": "Python 3 (ipykernel)",
   "language": "python",
   "name": "python3"
  },
  "language_info": {
   "codemirror_mode": {
    "name": "ipython",
    "version": 3
   },
   "file_extension": ".py",
   "mimetype": "text/x-python",
   "name": "python",
   "nbconvert_exporter": "python",
   "pygments_lexer": "ipython3",
   "version": "3.9.12"
  }
 },
 "nbformat": 4,
 "nbformat_minor": 5
}
