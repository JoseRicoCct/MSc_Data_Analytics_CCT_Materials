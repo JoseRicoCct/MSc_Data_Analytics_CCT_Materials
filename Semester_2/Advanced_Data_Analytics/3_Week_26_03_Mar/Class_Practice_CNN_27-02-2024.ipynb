{
 "cells": [
  {
   "cell_type": "code",
   "execution_count": 3,
   "id": "20040e66",
   "metadata": {},
   "outputs": [],
   "source": [
    "# Convolutional Neural Network\n",
    "# source code: https://www.analyticsvidhya.com/blog/2020/02/learn-image-classification-cnn-convolutional-neural-networks-3-datasets/\n",
    "from keras.datasets import mnist\n",
    "from keras.models import Sequential\n",
    "from keras.layers import Dense, Conv2D,MaxPool2D, Flatten\n",
    "from keras import utils\n",
    "from sklearn.metrics import accuracy_score"
   ]
  },
  {
   "cell_type": "code",
   "execution_count": 6,
   "id": "8b0fb48f",
   "metadata": {},
   "outputs": [],
   "source": [
    "(X_train, y_train),(X_test, y_test)=mnist.load_data()"
   ]
  },
  {
   "cell_type": "code",
   "execution_count": 7,
   "id": "23dbaeee",
   "metadata": {},
   "outputs": [],
   "source": [
    "X_train = X_train.reshape(X_train.shape[0],28,28,1)\n",
    "X_test = X_test.reshape(X_test.shape[0],28,28,1)\n",
    "X_train = X_train.astype('float32')\n",
    "X_test = X_test.astype('float32')"
   ]
  },
  {
   "cell_type": "markdown",
   "id": "3ae4021c",
   "metadata": {},
   "source": [
    "We need to scale the data:"
   ]
  },
  {
   "cell_type": "code",
   "execution_count": 8,
   "id": "6d3a177b",
   "metadata": {},
   "outputs": [],
   "source": [
    "X_train /=255\n",
    "X_test /=255"
   ]
  },
  {
   "cell_type": "markdown",
   "id": "c56033f2",
   "metadata": {},
   "source": [
    "I'm going to use softmax as my output layer.<br>\n",
    "There are then classes as in we have ten numbers the numbers."
   ]
  },
  {
   "cell_type": "code",
   "execution_count": 11,
   "id": "211d9e83",
   "metadata": {},
   "outputs": [
    {
     "name": "stdout",
     "output_type": "stream",
     "text": [
      "Shape before one-hot encoding:  (60000,)\n",
      "Shape after one-hot encoding:  (60000, 10)\n"
     ]
    }
   ],
   "source": [
    "n_classes = 10\n",
    "print(\"Shape before one-hot encoding: \", y_train.shape)\n",
    "Y_train = utils.to_categorical(y_train, n_classes)\n",
    "Y_test = utils.to_categorical(y_test, n_classes)\n",
    "print(\"Shape after one-hot encoding: \", Y_train.shape)"
   ]
  },
  {
   "cell_type": "code",
   "execution_count": 13,
   "id": "d2b48a92",
   "metadata": {},
   "outputs": [
    {
     "name": "stdout",
     "output_type": "stream",
     "text": [
      "Epoch 1/10\n",
      "469/469 [==============================] - 28s 59ms/step - loss: 0.2005 - accuracy: 0.9417 - val_loss: 0.0742 - val_accuracy: 0.9767\n",
      "Epoch 2/10\n",
      "469/469 [==============================] - 29s 62ms/step - loss: 0.0594 - accuracy: 0.9829 - val_loss: 0.0583 - val_accuracy: 0.9821\n",
      "Epoch 3/10\n",
      "469/469 [==============================] - 27s 57ms/step - loss: 0.0356 - accuracy: 0.9896 - val_loss: 0.0496 - val_accuracy: 0.9837\n",
      "Epoch 4/10\n",
      "469/469 [==============================] - 26s 56ms/step - loss: 0.0221 - accuracy: 0.9936 - val_loss: 0.0548 - val_accuracy: 0.9836\n",
      "Epoch 5/10\n",
      "469/469 [==============================] - 25s 53ms/step - loss: 0.0146 - accuracy: 0.9959 - val_loss: 0.0526 - val_accuracy: 0.9831\n",
      "Epoch 6/10\n",
      "469/469 [==============================] - 26s 56ms/step - loss: 0.0101 - accuracy: 0.9969 - val_loss: 0.0559 - val_accuracy: 0.9839\n",
      "Epoch 7/10\n",
      "469/469 [==============================] - 27s 57ms/step - loss: 0.0067 - accuracy: 0.9983 - val_loss: 0.0615 - val_accuracy: 0.9836\n",
      "Epoch 8/10\n",
      "469/469 [==============================] - 28s 60ms/step - loss: 0.0054 - accuracy: 0.9986 - val_loss: 0.0580 - val_accuracy: 0.9842\n",
      "Epoch 9/10\n",
      "469/469 [==============================] - 28s 61ms/step - loss: 0.0046 - accuracy: 0.9986 - val_loss: 0.0632 - val_accuracy: 0.9837\n",
      "Epoch 10/10\n",
      "469/469 [==============================] - 26s 55ms/step - loss: 0.0045 - accuracy: 0.9986 - val_loss: 0.0635 - val_accuracy: 0.9846\n"
     ]
    },
    {
     "data": {
      "text/plain": [
       "<keras.src.callbacks.History at 0x22195418710>"
      ]
     },
     "execution_count": 13,
     "metadata": {},
     "output_type": "execute_result"
    }
   ],
   "source": [
    "model = Sequential()\n",
    "model.add(Conv2D(25, kernel_size=(3,3), strides=(1,1), padding='valid', activation='relu', input_shape=(28,28,1)))\n",
    "model.add(MaxPool2D(pool_size=(1,1)))\n",
    "model.add(Flatten())\n",
    "model.add(Dense(100, activation='relu'))\n",
    "# output layer\n",
    "model.add(Dense(10, activation='softmax'))\n",
    "\n",
    "# compiling the sequential model\n",
    "model.compile(loss='categorical_crossentropy', metrics=['accuracy'], optimizer='adam')\n",
    "\n",
    "# training the model for 10 epochs\n",
    "model.fit(X_train, Y_train, batch_size=128, epochs=10, validation_data=(X_test, Y_test))"
   ]
  },
  {
   "cell_type": "code",
   "execution_count": 14,
   "id": "87051d96",
   "metadata": {},
   "outputs": [
    {
     "name": "stdout",
     "output_type": "stream",
     "text": [
      "1/1 [==============================] - 0s 102ms/step\n"
     ]
    }
   ],
   "source": [
    "predictions = model.predict(X_test [:10])"
   ]
  },
  {
   "cell_type": "code",
   "execution_count": 15,
   "id": "7b294440",
   "metadata": {},
   "outputs": [
    {
     "data": {
      "text/plain": [
       "array([[6.85778257e-12, 1.35020413e-13, 1.08808418e-09, 4.16850021e-09,\n",
       "        3.93423765e-14, 4.38603282e-13, 1.67042662e-18, 1.00000000e+00,\n",
       "        4.16052526e-09, 5.75418935e-10],\n",
       "       [8.31941327e-14, 5.45292067e-12, 1.00000000e+00, 4.67893589e-17,\n",
       "        1.62855737e-21, 1.75524037e-17, 1.50888972e-13, 7.15824455e-24,\n",
       "        5.44911184e-17, 3.92683771e-18],\n",
       "       [5.89458349e-09, 9.99994397e-01, 4.60442315e-08, 1.17076932e-12,\n",
       "        3.26930331e-06, 7.29521155e-09, 4.76406514e-09, 1.98430985e-06,\n",
       "        2.83695869e-07, 4.52376608e-10],\n",
       "       [1.00000000e+00, 4.39624804e-14, 2.06016040e-08, 2.16764454e-12,\n",
       "        2.05439181e-12, 8.11608503e-10, 3.64611701e-08, 3.72490268e-11,\n",
       "        1.67296027e-12, 1.46050602e-10],\n",
       "       [4.00494887e-10, 4.24115916e-11, 1.20229853e-08, 1.10766313e-10,\n",
       "        9.99991298e-01, 7.53708485e-11, 6.69584332e-10, 9.94061167e-10,\n",
       "        1.64694018e-08, 8.73997578e-06],\n",
       "       [5.69810588e-11, 9.99992728e-01, 5.41827205e-09, 1.52945788e-12,\n",
       "        1.44159833e-06, 1.22024240e-11, 6.17454352e-11, 5.70777411e-06,\n",
       "        1.44359518e-07, 3.96469746e-09],\n",
       "       [4.88203617e-15, 1.63649905e-09, 1.05510635e-10, 1.11528289e-12,\n",
       "        9.99716461e-01, 4.56529647e-10, 6.10134664e-13, 1.24144445e-10,\n",
       "        2.78125721e-04, 5.39217808e-06],\n",
       "       [1.01049879e-14, 4.13717220e-11, 1.05805604e-08, 2.69144067e-08,\n",
       "        1.96805559e-05, 5.68157477e-09, 1.08681908e-14, 9.22524123e-12,\n",
       "        4.47562883e-07, 9.99979854e-01],\n",
       "       [7.94129846e-08, 1.42391882e-15, 1.65708447e-09, 1.05717799e-08,\n",
       "        2.23064990e-06, 5.04520595e-01, 4.69209492e-01, 8.05683552e-16,\n",
       "        2.62414794e-02, 2.61793230e-05],\n",
       "       [2.53942463e-16, 1.28453837e-17, 3.62447007e-15, 5.13284754e-14,\n",
       "        1.64578083e-07, 4.38900049e-14, 3.83135336e-18, 1.46987966e-09,\n",
       "        2.93737569e-11, 9.99999881e-01]], dtype=float32)"
      ]
     },
     "execution_count": 15,
     "metadata": {},
     "output_type": "execute_result"
    }
   ],
   "source": [
    "predictions"
   ]
  },
  {
   "cell_type": "code",
   "execution_count": null,
   "id": "b45dd658",
   "metadata": {},
   "outputs": [],
   "source": []
  }
 ],
 "metadata": {
  "kernelspec": {
   "display_name": "Python 3 (ipykernel)",
   "language": "python",
   "name": "python3"
  },
  "language_info": {
   "codemirror_mode": {
    "name": "ipython",
    "version": 3
   },
   "file_extension": ".py",
   "mimetype": "text/x-python",
   "name": "python",
   "nbconvert_exporter": "python",
   "pygments_lexer": "ipython3",
   "version": "3.11.5"
  }
 },
 "nbformat": 4,
 "nbformat_minor": 5
}
